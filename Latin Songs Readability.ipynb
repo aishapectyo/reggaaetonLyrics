{
 "cells": [
  {
   "cell_type": "markdown",
   "metadata": {},
   "source": [
    "### Libraries "
   ]
  },
  {
   "cell_type": "code",
   "execution_count": 271,
   "metadata": {},
   "outputs": [],
   "source": [
    "%matplotlib inline\n",
    "import numpy as np \n",
    "import matplotlib.pyplot as plt\n",
    "import spacy as sp\n",
    "import pandas as pd\n",
    "import seaborn as sns\n",
    "import json\n",
    "from collections import Counter\n",
    "from sklearn.feature_extraction.text import TfidfVectorizer\n",
    "from sklearn.decomposition import LatentDirichletAllocation\n",
    "from sklearn.decomposition import NMF\n",
    "from sklearn.pipeline import Pipeline\n",
    "import nltk\n",
    "from nltk.corpus import stopwords\n",
    "from nltk.util import ngrams  \n",
    "from nltk.stem import PorterStemmer\n",
    "from pandas.io.json import json_normalize \n",
    "import legibilidad\n",
    "#Source: https://github.com/amunozf/legibilidad\n",
    "from lexical_diversity import lex_div as ld\n",
    "#Source: https://pypi.org/project/lexical-diversity/\n",
    "stop = stopwords.words('spanish')\n",
    "\n",
    "nlp = sp.load(\"es\")\n"
   ]
  },
  {
   "cell_type": "markdown",
   "metadata": {},
   "source": [
    "### User-defined functions\n"
   ]
  },
  {
   "cell_type": "code",
   "execution_count": 254,
   "metadata": {},
   "outputs": [],
   "source": [
    "def lexical_diversity(text):\n",
    "    \"\"\"\n",
    "    Function takes in string object and compute lexical diversity.\n",
    "    It returns a string.\n",
    "    ------------\n",
    "    Paramenters:\n",
    "    text: string. document to be analyzed.\n",
    "    ------------\n",
    "    Returns:\n",
    "    string\n",
    "    \"\"\"\n",
    "    return len(set(text)) / len(text)\n",
    "\n",
    "def sanitize_text(df, col):\n",
    "    \"\"\"\n",
    "    Function takes a dataframe and column name and cleans said column. \n",
    "    ------------\n",
    "    Paramenters:\n",
    "    df: pandas dataFrame. dataframe\n",
    "    col: string, column name\n",
    "    ------------\n",
    "    Returns:\n",
    "    pandas dataFrame\n",
    "    \"\"\"\n",
    "    df[col+' Cleaned'] = df[col].str.replace(r\"[^A-Za-z0-9(),!?@\\'\\`\\\"\\_\\n]\", \" \")\n",
    "    df[col+' Cleaned'] = df[col+' Cleaned'].replace('[^\\w\\s]', '')\n",
    "    df[col+' Cleaned'] = df[col+' Cleaned'].str.lower()\n",
    "    return df\n",
    "\n",
    "def avg_word(sentence):\n",
    "    \"\"\"\n",
    "    Function takes in a string and computes the average number of words.\n",
    "    ------------\n",
    "    Paramenters:\n",
    "    sentence: string. \n",
    "    ------------\n",
    "    Returns:\n",
    "    int\n",
    "    \"\"\"\n",
    "    words = sentence.split()\n",
    "    return (sum(len(word) for word in words)/len(words))\n",
    "\n",
    "def rank_words(terms, feature_matrix):\n",
    "    \"\"\"\n",
    "    Display top comments by topic.\n",
    "    \"\"\"\n",
    "    sums = feature_matrix.sum(axis=0)\n",
    "    data = []\n",
    "    for col, term in enumerate(terms):\n",
    "        data.append( (term, sums[0,col]) )\n",
    "    ranked = pd.DataFrame(data, columns=['term','rank']).sort_values('rank', ascending=False)\n",
    "    return ranked\n",
    "\n",
    "def rank_words(terms, feature_matrix):\n",
    "    \"\"\"\n",
    "    Display top comments by topic.\n",
    "    \"\"\"\n",
    "    sums = feature_matrix.sum(axis=0)\n",
    "    data = []\n",
    "    for col, term in enumerate(terms):\n",
    "        data.append( (term, sums[0,col]) )\n",
    "    ranked = pd.DataFrame(data, columns=['term','rank']).sort_values('rank', ascending=False)\n",
    "    return ranked\n",
    "\n",
    "def word_prob(word): \n",
    "    \"\"\"\n",
    "    Computes the probability of each word in the dictionary. \n",
    "    \"\"\"\n",
    "    return dictionary[word] / total\n",
    "\n",
    "def words(text): \n",
    "    \"\"\"\n",
    "    Transforms words into proper format.\n",
    "    \"\"\"\n",
    "    return re.findall('[a-z]+', text.lower()) \n",
    "\n",
    "def viterbi_segment(text):\n",
    "    \"\"\"\n",
    "    Use viterbi's algorithm to find the maximum probabilities of words in a \n",
    "    merged string. NOTE: Must be fed lowercase strings.\n",
    "    \n",
    "    \"\"\"\n",
    "    #Initialize state memory\n",
    "    probs, lasts = [1.0], [0] \n",
    "    #Loop over number of observations\n",
    "    for i in range(1, len(text) + 1):\n",
    "        #Loop over possible new states, loop over old states, compute new path\n",
    "        prob_k, k = max((probs[j] * word_prob(text[j:i]), j)\n",
    "                        for j in range(max(0, i - max_word_length), i))\n",
    "     \n",
    "        probs.append(prob_k)\n",
    "        lasts.append(k)\n",
    "    words = []\n",
    "    i = len(text)\n",
    "    #Search for most prob. transition\n",
    "    while 0 < i:\n",
    "        words.append(text[lasts[i]:i])\n",
    "        i = lasts[i]\n",
    "    words.reverse()\n",
    "    return words, probs[-1]\n",
    "\n",
    "\n",
    "def sanitize(text):\n",
    "    \"\"\"\n",
    "    Removes any leftover HTML tags.\n",
    "    Takes in a single string.\n",
    "    \n",
    "    \"\"\"\n",
    "    newText = text.replace(\"&nbsp\", \"\")\n",
    "    newText = newText.replace(\"&\", \"\")\n",
    "    newText = newText.replace(\"\\xa0\", \"\")\n",
    "    newText = newText.replace(\"\\t\", \"\")\n",
    "    return newText\n",
    "\n",
    "def avg_word(sentence):\n",
    "    \"\"\"\n",
    "    Get average word length.\n",
    "    \"\"\"\n",
    "    words = sentence.split()\n",
    "    return (sum(len(word) for word in words)/len(words))\n",
    "\n",
    "def ngram_filter(tokens, n):\n",
    "    all_ngrams = ngrams(tokens, n)\n",
    "    filtered_ngrams = [x for x in all_ngrams]\n",
    "    newgrams = [' '.join(x) for x in filtered_ngrams]\n",
    "    return newgrams\n",
    "\n",
    "def ngram_generator(comment_list, ngram_count):\n",
    "    text_ngram = []\n",
    "    for comment in comment_list:\n",
    "        temp = ngram_filter(comment, ngram_count)\n",
    "        text_ngram.extend(temp)\n",
    "        \n",
    "    ngram_dat = pd.DataFrame(text_ngram)\n",
    "    ngram_counts = pd.DataFrame(ngram_dat.groupby(0).size())\n",
    "    ngram_counts.index.names = ['ngram']\n",
    "    ngram_counts.columns = ['count']\n",
    "    ngram_counts.sort_values(by = 'count', ascending = False, inplace=True)\n",
    "    ngram_counts.reset_index(level=0, inplace=True)\n",
    "    ngram_counts = ngram_counts.head(100)\n",
    "    \n",
    "    return ngram_counts\n"
   ]
  },
  {
   "cell_type": "markdown",
   "metadata": {},
   "source": [
    "### Data Preparation"
   ]
  },
  {
   "cell_type": "code",
   "execution_count": 375,
   "metadata": {},
   "outputs": [],
   "source": [
    "#--- Read data\n",
    "filename = 'merengue.json'\n",
    "with open(filename) as data_file:    \n",
    "    data = json.load(data_file)  \n",
    "df = json_normalize(data, 'data', ['artist','song', 'lyrics'], \n",
    "                    record_prefix='data_',errors='ignore')\n",
    "df.drop([\"song\", \"artist\", \"lyrics\", \"data_url\"], axis=1, inplace=True)"
   ]
  },
  {
   "cell_type": "code",
   "execution_count": 376,
   "metadata": {},
   "outputs": [
    {
     "data": {
      "text/html": [
       "<div>\n",
       "<style scoped>\n",
       "    .dataframe tbody tr th:only-of-type {\n",
       "        vertical-align: middle;\n",
       "    }\n",
       "\n",
       "    .dataframe tbody tr th {\n",
       "        vertical-align: top;\n",
       "    }\n",
       "\n",
       "    .dataframe thead th {\n",
       "        text-align: right;\n",
       "    }\n",
       "</style>\n",
       "<table border=\"1\" class=\"dataframe\">\n",
       "  <thead>\n",
       "    <tr style=\"text-align: right;\">\n",
       "      <th></th>\n",
       "      <th>data_artist</th>\n",
       "      <th>data_song</th>\n",
       "      <th>data_lyrics</th>\n",
       "    </tr>\n",
       "  </thead>\n",
       "  <tbody>\n",
       "    <tr>\n",
       "      <td>0</td>\n",
       "      <td></td>\n",
       "      <td>la-combinacion-vallenata</td>\n",
       "      <td>Corazón yo sería como el viento libre libreAy ...</td>\n",
       "    </tr>\n",
       "    <tr>\n",
       "      <td>1</td>\n",
       "      <td></td>\n",
       "      <td>juan-luis-guerra</td>\n",
       "      <td>Tengo un Dios admirable en los cielosy el amor...</td>\n",
       "    </tr>\n",
       "    <tr>\n",
       "      <td>2</td>\n",
       "      <td></td>\n",
       "      <td>juan-luis-guerra</td>\n",
       "      <td>Tengo un corazónMutilado de esperanza y de raz...</td>\n",
       "    </tr>\n",
       "    <tr>\n",
       "      <td>3</td>\n",
       "      <td></td>\n",
       "      <td>juan-luis-guerra</td>\n",
       "      <td>Yo era de un barrio pobreDel centro de la ciud...</td>\n",
       "    </tr>\n",
       "    <tr>\n",
       "      <td>4</td>\n",
       "      <td></td>\n",
       "      <td>juan-luis-guerra</td>\n",
       "      <td>Oye, me dio una fiebre el otro díaPor causa de...</td>\n",
       "    </tr>\n",
       "  </tbody>\n",
       "</table>\n",
       "</div>"
      ],
      "text/plain": [
       "  data_artist                 data_song  \\\n",
       "0              la-combinacion-vallenata   \n",
       "1                      juan-luis-guerra   \n",
       "2                      juan-luis-guerra   \n",
       "3                      juan-luis-guerra   \n",
       "4                      juan-luis-guerra   \n",
       "\n",
       "                                         data_lyrics  \n",
       "0  Corazón yo sería como el viento libre libreAy ...  \n",
       "1  Tengo un Dios admirable en los cielosy el amor...  \n",
       "2  Tengo un corazónMutilado de esperanza y de raz...  \n",
       "3  Yo era de un barrio pobreDel centro de la ciud...  \n",
       "4  Oye, me dio una fiebre el otro díaPor causa de...  "
      ]
     },
     "execution_count": 376,
     "metadata": {},
     "output_type": "execute_result"
    }
   ],
   "source": [
    "df.head()"
   ]
  },
  {
   "cell_type": "code",
   "execution_count": 377,
   "metadata": {},
   "outputs": [
    {
     "data": {
      "text/plain": [
       "498"
      ]
     },
     "execution_count": 377,
     "metadata": {},
     "output_type": "execute_result"
    }
   ],
   "source": [
    "len(df.data_lyrics)"
   ]
  },
  {
   "cell_type": "code",
   "execution_count": 378,
   "metadata": {},
   "outputs": [],
   "source": [
    "df = df[(df.data_song != 'macaco') & (df.data_song != 'las-pelotas')]\n",
    "df.reset_index(inplace=True, drop=True)"
   ]
  },
  {
   "cell_type": "code",
   "execution_count": 379,
   "metadata": {},
   "outputs": [],
   "source": [
    "#Convert to spacy, object, remove puntuation and tokenize.\n",
    "placeholder = []\n",
    "for song in range(len(df.data_lyrics)):\n",
    "    doc = nlp(df.data_lyrics[song])\n",
    "    placeholder.append([token.orth_ for token in doc \n",
    "                                  if not token.is_punct | token.is_space])\n",
    "df['tokenized_song'] = placeholder"
   ]
  },
  {
   "cell_type": "code",
   "execution_count": 380,
   "metadata": {},
   "outputs": [
    {
     "data": {
      "text/plain": [
       "0    [Corazón, yo, sería, como, el, viento, libre, ...\n",
       "1    [Tengo, un, Dios, admirable, en, los, cielosy,...\n",
       "2    [Tengo, un, corazónMutilado, de, esperanza, y,...\n",
       "3    [Yo, era, de, un, barrio, pobreDel, centro, de...\n",
       "4    [Oye, me, dio, una, fiebre, el, otro, díaPor, ...\n",
       "Name: tokenized_song, dtype: object"
      ]
     },
     "execution_count": 380,
     "metadata": {},
     "output_type": "execute_result"
    }
   ],
   "source": [
    "df['tokenized_song'].head()"
   ]
  },
  {
   "cell_type": "markdown",
   "metadata": {},
   "source": [
    "### Grammatical Properties"
   ]
  },
  {
   "cell_type": "code",
   "execution_count": 381,
   "metadata": {},
   "outputs": [],
   "source": [
    "df['silabas_por_palabra'] = df['data_lyrics'].apply(legibilidad.Pval)\n",
    "df['palabras_por_oracion'] = df['data_lyrics'].apply(legibilidad.Fval)\n",
    "df['numero_palabras_por_cancion']= df['data_lyrics'].apply(legibilidad.count_words)"
   ]
  },
  {
   "cell_type": "code",
   "execution_count": 382,
   "metadata": {},
   "outputs": [
    {
     "data": {
      "text/html": [
       "<div>\n",
       "<style scoped>\n",
       "    .dataframe tbody tr th:only-of-type {\n",
       "        vertical-align: middle;\n",
       "    }\n",
       "\n",
       "    .dataframe tbody tr th {\n",
       "        vertical-align: top;\n",
       "    }\n",
       "\n",
       "    .dataframe thead th {\n",
       "        text-align: right;\n",
       "    }\n",
       "</style>\n",
       "<table border=\"1\" class=\"dataframe\">\n",
       "  <thead>\n",
       "    <tr style=\"text-align: right;\">\n",
       "      <th></th>\n",
       "      <th>silabas_por_palabra</th>\n",
       "      <th>palabras_por_oracion</th>\n",
       "      <th>numero_palabras_por_cancion</th>\n",
       "    </tr>\n",
       "  </thead>\n",
       "  <tbody>\n",
       "    <tr>\n",
       "      <td>count</td>\n",
       "      <td>498.000000</td>\n",
       "      <td>498.000000</td>\n",
       "      <td>498.000000</td>\n",
       "    </tr>\n",
       "    <tr>\n",
       "      <td>mean</td>\n",
       "      <td>1.936888</td>\n",
       "      <td>83.558795</td>\n",
       "      <td>213.755020</td>\n",
       "    </tr>\n",
       "    <tr>\n",
       "      <td>std</td>\n",
       "      <td>0.219580</td>\n",
       "      <td>82.984125</td>\n",
       "      <td>95.219519</td>\n",
       "    </tr>\n",
       "    <tr>\n",
       "      <td>min</td>\n",
       "      <td>1.430000</td>\n",
       "      <td>2.210000</td>\n",
       "      <td>27.000000</td>\n",
       "    </tr>\n",
       "    <tr>\n",
       "      <td>25%</td>\n",
       "      <td>1.790000</td>\n",
       "      <td>19.125000</td>\n",
       "      <td>148.000000</td>\n",
       "    </tr>\n",
       "    <tr>\n",
       "      <td>50%</td>\n",
       "      <td>1.910000</td>\n",
       "      <td>48.835000</td>\n",
       "      <td>206.000000</td>\n",
       "    </tr>\n",
       "    <tr>\n",
       "      <td>75%</td>\n",
       "      <td>2.047500</td>\n",
       "      <td>134.000000</td>\n",
       "      <td>265.750000</td>\n",
       "    </tr>\n",
       "    <tr>\n",
       "      <td>max</td>\n",
       "      <td>3.310000</td>\n",
       "      <td>384.000000</td>\n",
       "      <td>639.000000</td>\n",
       "    </tr>\n",
       "  </tbody>\n",
       "</table>\n",
       "</div>"
      ],
      "text/plain": [
       "       silabas_por_palabra  palabras_por_oracion  numero_palabras_por_cancion\n",
       "count           498.000000            498.000000                   498.000000\n",
       "mean              1.936888             83.558795                   213.755020\n",
       "std               0.219580             82.984125                    95.219519\n",
       "min               1.430000              2.210000                    27.000000\n",
       "25%               1.790000             19.125000                   148.000000\n",
       "50%               1.910000             48.835000                   206.000000\n",
       "75%               2.047500            134.000000                   265.750000\n",
       "max               3.310000            384.000000                   639.000000"
      ]
     },
     "execution_count": 382,
     "metadata": {},
     "output_type": "execute_result"
    }
   ],
   "source": [
    "df[['silabas_por_palabra','palabras_por_oracion', 'numero_palabras_por_cancion']].describe()"
   ]
  },
  {
   "cell_type": "markdown",
   "metadata": {},
   "source": [
    "### Lexical Diversity"
   ]
  },
  {
   "cell_type": "code",
   "execution_count": 383,
   "metadata": {},
   "outputs": [],
   "source": [
    "df['lexical_diversity'] = df['tokenized_song'].apply(lexical_diversity)"
   ]
  },
  {
   "cell_type": "code",
   "execution_count": 384,
   "metadata": {},
   "outputs": [
    {
     "data": {
      "text/plain": [
       "count    498.000000\n",
       "mean       0.456674\n",
       "std        0.136926\n",
       "min        0.143695\n",
       "25%        0.358466\n",
       "50%        0.440549\n",
       "75%        0.537468\n",
       "max        0.962963\n",
       "Name: lexical_diversity, dtype: float64"
      ]
     },
     "execution_count": 384,
     "metadata": {},
     "output_type": "execute_result"
    }
   ],
   "source": [
    "df['lexical_diversity'].describe()"
   ]
  },
  {
   "cell_type": "code",
   "execution_count": 385,
   "metadata": {},
   "outputs": [],
   "source": [
    "#Max and Min\n",
    "max_= df['lexical_diversity'].idxmax()\n",
    "min_ = df['lexical_diversity'].idxmin()"
   ]
  },
  {
   "cell_type": "code",
   "execution_count": 386,
   "metadata": {},
   "outputs": [
    {
     "name": "stdout",
     "output_type": "stream",
     "text": [
      "juan-luis-guerra\n",
      "\n",
      "juan-luis-guerra\n"
     ]
    }
   ],
   "source": [
    "print(df.data_song[max_]+\"\\n\")\n",
    "print(df.data_song[min_])"
   ]
  },
  {
   "cell_type": "code",
   "execution_count": 387,
   "metadata": {},
   "outputs": [],
   "source": [
    "averages_ld_per_singer = df.groupby('data_song')['lexical_diversity'].mean()"
   ]
  },
  {
   "cell_type": "code",
   "execution_count": 388,
   "metadata": {},
   "outputs": [
    {
     "data": {
      "text/plain": [
       "data_song\n",
       "chimbala                    0.319459\n",
       "jandy-feliz                 0.408058\n",
       "hector-acosta               0.432914\n",
       "wilfrido-vargas             0.437280\n",
       "eddy-herrera                0.449162\n",
       "juan-luis-guerra            0.459719\n",
       "milly-quezada               0.466434\n",
       "la-combinacion-vallenata    0.468564\n",
       "too-rosario                 0.472921\n",
       "sergio-vargas               0.475340\n",
       "Name: lexical_diversity, dtype: float64"
      ]
     },
     "execution_count": 388,
     "metadata": {},
     "output_type": "execute_result"
    }
   ],
   "source": [
    "averages_ld_per_singer.sort_values().tail(45)"
   ]
  },
  {
   "cell_type": "code",
   "execution_count": 389,
   "metadata": {},
   "outputs": [
    {
     "name": "stderr",
     "output_type": "stream",
     "text": [
      "/Users/vn50lkl/opt/anaconda3/lib/python3.7/site-packages/ipykernel_launcher.py:1: FutureWarning: The signature of `Series.to_csv` was aligned to that of `DataFrame.to_csv`, and argument 'header' will change its default value from False to True: please pass an explicit value to suppress this warning.\n",
      "  \"\"\"Entry point for launching an IPython kernel.\n"
     ]
    }
   ],
   "source": [
    "averages_ld_per_singer.to_csv(\"test.csv\")"
   ]
  },
  {
   "cell_type": "code",
   "execution_count": 390,
   "metadata": {},
   "outputs": [
    {
     "data": {
      "text/plain": [
       "data_song\n",
       "chimbala           0.319459\n",
       "jandy-feliz        0.408058\n",
       "hector-acosta      0.432914\n",
       "wilfrido-vargas    0.437280\n",
       "eddy-herrera       0.449162\n",
       "Name: lexical_diversity, dtype: float64"
      ]
     },
     "execution_count": 390,
     "metadata": {},
     "output_type": "execute_result"
    }
   ],
   "source": [
    "averages_ld_per_singer.sort_values().head()"
   ]
  },
  {
   "cell_type": "markdown",
   "metadata": {},
   "source": [
    "### Readability"
   ]
  },
  {
   "cell_type": "code",
   "execution_count": 391,
   "metadata": {},
   "outputs": [],
   "source": [
    "df['fernandez_huerta'] = df['data_lyrics'].apply(legibilidad.fernandez_huerta)\n",
    "df['fernandez_huerta_int'] = df['fernandez_huerta'].apply(legibilidad.interpretaL)\n",
    "\n",
    "df['gutierrez'] = df['data_lyrics'].apply(legibilidad.gutierrez)\n",
    "df['gutierrez_int'] = df['gutierrez'].apply(legibilidad.gutierrez_interpret)\n",
    "\n",
    "df['szigriszt_pazos'] = df['data_lyrics'].apply(legibilidad.szigriszt_pazos)\n",
    "df['szigriszt_pazos_int'] = df['szigriszt_pazos'].apply(legibilidad.interpretaP)"
   ]
  },
  {
   "cell_type": "code",
   "execution_count": 392,
   "metadata": {},
   "outputs": [
    {
     "data": {
      "text/html": [
       "<div>\n",
       "<style scoped>\n",
       "    .dataframe tbody tr th:only-of-type {\n",
       "        vertical-align: middle;\n",
       "    }\n",
       "\n",
       "    .dataframe tbody tr th {\n",
       "        vertical-align: top;\n",
       "    }\n",
       "\n",
       "    .dataframe thead th {\n",
       "        text-align: right;\n",
       "    }\n",
       "</style>\n",
       "<table border=\"1\" class=\"dataframe\">\n",
       "  <thead>\n",
       "    <tr style=\"text-align: right;\">\n",
       "      <th></th>\n",
       "      <th>data_artist</th>\n",
       "      <th>data_song</th>\n",
       "      <th>data_lyrics</th>\n",
       "      <th>tokenized_song</th>\n",
       "      <th>silabas_por_palabra</th>\n",
       "      <th>palabras_por_oracion</th>\n",
       "      <th>numero_palabras_por_cancion</th>\n",
       "      <th>lexical_diversity</th>\n",
       "      <th>fernandez_huerta</th>\n",
       "      <th>fernandez_huerta_int</th>\n",
       "      <th>gutierrez</th>\n",
       "      <th>gutierrez_int</th>\n",
       "      <th>szigriszt_pazos</th>\n",
       "      <th>szigriszt_pazos_int</th>\n",
       "    </tr>\n",
       "  </thead>\n",
       "  <tbody>\n",
       "    <tr>\n",
       "      <td>0</td>\n",
       "      <td></td>\n",
       "      <td>la-combinacion-vallenata</td>\n",
       "      <td>Corazón yo sería como el viento libre libreAy ...</td>\n",
       "      <td>[Corazón, yo, sería, como, el, viento, libre, ...</td>\n",
       "      <td>1.82</td>\n",
       "      <td>276.00</td>\n",
       "      <td>276</td>\n",
       "      <td>0.474638</td>\n",
       "      <td>-183.88</td>\n",
       "      <td>muy difícil</td>\n",
       "      <td>-44.38</td>\n",
       "      <td>difícil</td>\n",
       "      <td>-182.70</td>\n",
       "      <td>muy difícil</td>\n",
       "    </tr>\n",
       "    <tr>\n",
       "      <td>1</td>\n",
       "      <td></td>\n",
       "      <td>juan-luis-guerra</td>\n",
       "      <td>Tengo un Dios admirable en los cielosy el amor...</td>\n",
       "      <td>[Tengo, un, Dios, admirable, en, los, cielosy,...</td>\n",
       "      <td>1.55</td>\n",
       "      <td>6.40</td>\n",
       "      <td>461</td>\n",
       "      <td>0.343182</td>\n",
       "      <td>107.31</td>\n",
       "      <td>muy fácil</td>\n",
       "      <td>56.73</td>\n",
       "      <td>normal</td>\n",
       "      <td>104.08</td>\n",
       "      <td>muy fácil</td>\n",
       "    </tr>\n",
       "    <tr>\n",
       "      <td>2</td>\n",
       "      <td></td>\n",
       "      <td>juan-luis-guerra</td>\n",
       "      <td>Tengo un corazónMutilado de esperanza y de raz...</td>\n",
       "      <td>[Tengo, un, corazónMutilado, de, esperanza, y,...</td>\n",
       "      <td>2.07</td>\n",
       "      <td>16.40</td>\n",
       "      <td>246</td>\n",
       "      <td>0.365957</td>\n",
       "      <td>65.91</td>\n",
       "      <td>normal</td>\n",
       "      <td>43.48</td>\n",
       "      <td>normal</td>\n",
       "      <td>61.78</td>\n",
       "      <td>normal</td>\n",
       "    </tr>\n",
       "    <tr>\n",
       "      <td>3</td>\n",
       "      <td></td>\n",
       "      <td>juan-luis-guerra</td>\n",
       "      <td>Yo era de un barrio pobreDel centro de la ciud...</td>\n",
       "      <td>[Yo, era, de, un, barrio, pobreDel, centro, de...</td>\n",
       "      <td>2.04</td>\n",
       "      <td>53.20</td>\n",
       "      <td>266</td>\n",
       "      <td>0.449057</td>\n",
       "      <td>30.18</td>\n",
       "      <td>difícil</td>\n",
       "      <td>33.44</td>\n",
       "      <td>normal</td>\n",
       "      <td>26.46</td>\n",
       "      <td>árido</td>\n",
       "    </tr>\n",
       "    <tr>\n",
       "      <td>4</td>\n",
       "      <td></td>\n",
       "      <td>juan-luis-guerra</td>\n",
       "      <td>Oye, me dio una fiebre el otro díaPor causa de...</td>\n",
       "      <td>[Oye, me, dio, una, fiebre, el, otro, díaPor, ...</td>\n",
       "      <td>1.98</td>\n",
       "      <td>9.06</td>\n",
       "      <td>163</td>\n",
       "      <td>0.605096</td>\n",
       "      <td>78.80</td>\n",
       "      <td>bastante fácil</td>\n",
       "      <td>50.55</td>\n",
       "      <td>normal</td>\n",
       "      <td>74.33</td>\n",
       "      <td>bastante fácil</td>\n",
       "    </tr>\n",
       "  </tbody>\n",
       "</table>\n",
       "</div>"
      ],
      "text/plain": [
       "  data_artist                 data_song  \\\n",
       "0              la-combinacion-vallenata   \n",
       "1                      juan-luis-guerra   \n",
       "2                      juan-luis-guerra   \n",
       "3                      juan-luis-guerra   \n",
       "4                      juan-luis-guerra   \n",
       "\n",
       "                                         data_lyrics  \\\n",
       "0  Corazón yo sería como el viento libre libreAy ...   \n",
       "1  Tengo un Dios admirable en los cielosy el amor...   \n",
       "2  Tengo un corazónMutilado de esperanza y de raz...   \n",
       "3  Yo era de un barrio pobreDel centro de la ciud...   \n",
       "4  Oye, me dio una fiebre el otro díaPor causa de...   \n",
       "\n",
       "                                      tokenized_song  silabas_por_palabra  \\\n",
       "0  [Corazón, yo, sería, como, el, viento, libre, ...                 1.82   \n",
       "1  [Tengo, un, Dios, admirable, en, los, cielosy,...                 1.55   \n",
       "2  [Tengo, un, corazónMutilado, de, esperanza, y,...                 2.07   \n",
       "3  [Yo, era, de, un, barrio, pobreDel, centro, de...                 2.04   \n",
       "4  [Oye, me, dio, una, fiebre, el, otro, díaPor, ...                 1.98   \n",
       "\n",
       "   palabras_por_oracion  numero_palabras_por_cancion  lexical_diversity  \\\n",
       "0                276.00                          276           0.474638   \n",
       "1                  6.40                          461           0.343182   \n",
       "2                 16.40                          246           0.365957   \n",
       "3                 53.20                          266           0.449057   \n",
       "4                  9.06                          163           0.605096   \n",
       "\n",
       "   fernandez_huerta fernandez_huerta_int  gutierrez gutierrez_int  \\\n",
       "0           -183.88          muy difícil     -44.38       difícil   \n",
       "1            107.31            muy fácil      56.73        normal   \n",
       "2             65.91               normal      43.48        normal   \n",
       "3             30.18              difícil      33.44        normal   \n",
       "4             78.80       bastante fácil      50.55        normal   \n",
       "\n",
       "   szigriszt_pazos szigriszt_pazos_int  \n",
       "0          -182.70         muy difícil  \n",
       "1           104.08           muy fácil  \n",
       "2            61.78              normal  \n",
       "3            26.46               árido  \n",
       "4            74.33      bastante fácil  "
      ]
     },
     "execution_count": 392,
     "metadata": {},
     "output_type": "execute_result"
    }
   ],
   "source": [
    "df.head()"
   ]
  },
  {
   "cell_type": "code",
   "execution_count": 393,
   "metadata": {},
   "outputs": [
    {
     "name": "stdout",
     "output_type": "stream",
     "text": [
      "muy difícil         228\n",
      "bastante fácil       56\n",
      "difícil              55\n",
      "fácil                48\n",
      "normal               42\n",
      "muy fácil            37\n",
      "bastante difícil     32\n",
      "Name: fernandez_huerta_int, dtype: int64\n",
      "\n",
      "\n",
      "difícil    249\n",
      "normal     249\n",
      "Name: gutierrez_int, dtype: int64\n",
      "\n",
      "\n",
      "muy difícil         211\n",
      "bastante fácil       58\n",
      "normal               54\n",
      "fácil                51\n",
      "árido                50\n",
      "muy fácil            39\n",
      "bastante difícil     35\n",
      "Name: szigriszt_pazos_int, dtype: int64\n"
     ]
    }
   ],
   "source": [
    "print(df.fernandez_huerta_int.value_counts())\n",
    "print(\"\\n\")\n",
    "print(df.gutierrez_int.value_counts())\n",
    "print(\"\\n\")\n",
    "print(df.szigriszt_pazos_int.value_counts())"
   ]
  },
  {
   "cell_type": "code",
   "execution_count": 394,
   "metadata": {},
   "outputs": [
    {
     "name": "stdout",
     "output_type": "stream",
     "text": [
      "data_song\n",
      "eddy-herrera        27.530000\n",
      "juan-luis-guerra    28.770560\n",
      "jandy-feliz         31.241875\n",
      "milly-quezada       38.097241\n",
      "chimbala            98.580000\n",
      "Name: fernandez_huerta, dtype: float64\n",
      "\n",
      "\n",
      "data_song\n",
      "la-combinacion-vallenata   -69.333333\n",
      "too-rosario                -36.771333\n",
      "hector-acosta              -15.074717\n",
      "wilfrido-vargas            -12.172727\n",
      "sergio-vargas               13.709091\n",
      "Name: fernandez_huerta, dtype: float64\n"
     ]
    }
   ],
   "source": [
    "average_readability_per_singer = df.groupby('data_song')['fernandez_huerta'].mean()\n",
    "print(average_readability_per_singer.sort_values().tail())\n",
    "print(\"\\n\")\n",
    "print(average_readability_per_singer.sort_values().head())"
   ]
  },
  {
   "cell_type": "markdown",
   "metadata": {},
   "source": [
    "### Parts of Speech\n"
   ]
  },
  {
   "cell_type": "code",
   "execution_count": null,
   "metadata": {},
   "outputs": [],
   "source": [
    "#Quick look with spacy"
   ]
  },
  {
   "cell_type": "code",
   "execution_count": 214,
   "metadata": {},
   "outputs": [],
   "source": [
    "all_text = df['data_lyrics'].str.cat(sep=', ')"
   ]
  },
  {
   "cell_type": "code",
   "execution_count": 220,
   "metadata": {},
   "outputs": [],
   "source": [
    "all_text_comp = all_text[0:1000000]"
   ]
  },
  {
   "cell_type": "code",
   "execution_count": 221,
   "metadata": {},
   "outputs": [],
   "source": [
    "doc = nlp(all_text_comp)\n",
    "\n",
    "words = [token.text for token in doc if token.is_stop != True and token.is_punct != True]\n",
    "\n",
    "nouns = [token.text for token in doc if token.is_stop != True and token.is_punct != True and token.pos_ == \"NOUN\"]\n",
    "\n",
    "verbs = [token.text for token in doc if token.is_stop != True and token.is_punct != True and token.pos_ == \"VERB\"]\n"
   ]
  },
  {
   "cell_type": "code",
   "execution_count": 233,
   "metadata": {},
   "outputs": [],
   "source": [
    "#five most common tokens\n",
    "word_freq = Counter(words)\n",
    "common_words = word_freq.most_common(20)\n",
    "\n",
    "#five most common noun tokens\n",
    "noun_freq = Counter(nouns)\n",
    "common_nouns = noun_freq.most_common(20)\n",
    "\n",
    "#five most common verb tokens\n",
    "verb_freq = Counter(verbs)\n",
    "common_verbs = verb_freq.most_common(20)"
   ]
  },
  {
   "cell_type": "code",
   "execution_count": 234,
   "metadata": {},
   "outputs": [
    {
     "data": {
      "text/plain": [
       "[('a', 3456),\n",
       " ('y', 3058),\n",
       " ('pa', 1088),\n",
       " ('quiero', 621),\n",
       " ('Y', 579),\n",
       " ('amor', 453),\n",
       " ('noche', 395),\n",
       " ('oh', 390),\n",
       " ('vida', 374),\n",
       " ('na', 336),\n",
       " ('to', 321),\n",
       " ('yeh', 285),\n",
       " ('eh', 248),\n",
       " ('quieres', 226),\n",
       " ('gusta', 197),\n",
       " ('mundo', 195),\n",
       " ('baby', 191),\n",
       " ('vas', 180),\n",
       " ('siento', 178),\n",
       " ('o', 172)]"
      ]
     },
     "execution_count": 234,
     "metadata": {},
     "output_type": "execute_result"
    }
   ],
   "source": [
    "common_words"
   ]
  },
  {
   "cell_type": "code",
   "execution_count": 235,
   "metadata": {},
   "outputs": [
    {
     "data": {
      "text/plain": [
       "[('amor', 411),\n",
       " ('noche', 384),\n",
       " ('vida', 371),\n",
       " ('mundo', 183),\n",
       " ('corazón', 151),\n",
       " ('cama', 146),\n",
       " ('yeh', 132),\n",
       " ('cuerpo', 130),\n",
       " ('tucu', 124),\n",
       " ('calle', 122),\n",
       " ('mujer', 106),\n",
       " ('quieres', 99),\n",
       " ('baby', 99),\n",
       " ('ojos', 95),\n",
       " ('casa', 93),\n",
       " ('gente', 93),\n",
       " ('disco', 84),\n",
       " ('sol', 83),\n",
       " ('mano', 82),\n",
       " ('par', 79)]"
      ]
     },
     "execution_count": 235,
     "metadata": {},
     "output_type": "execute_result"
    }
   ],
   "source": [
    "common_nouns"
   ]
  },
  {
   "cell_type": "code",
   "execution_count": 236,
   "metadata": {},
   "outputs": [
    {
     "data": {
      "text/plain": [
       "[('quiero', 600),\n",
       " ('gusta', 196),\n",
       " ('siento', 160),\n",
       " ('tienes', 144),\n",
       " ('to', 132),\n",
       " ('vas', 129),\n",
       " ('ve', 105),\n",
       " ('doy', 102),\n",
       " ('estás', 92),\n",
       " ('importa', 92),\n",
       " ('quieres', 91),\n",
       " ('pone', 87),\n",
       " ('digo', 83),\n",
       " ('pasa', 80),\n",
       " ('siente', 71),\n",
       " ('vivir', 69),\n",
       " ('quiera', 65),\n",
       " ('quieren', 64),\n",
       " ('veo', 64),\n",
       " ('ven', 63)]"
      ]
     },
     "execution_count": 236,
     "metadata": {},
     "output_type": "execute_result"
    }
   ],
   "source": [
    "common_verbs"
   ]
  },
  {
   "cell_type": "markdown",
   "metadata": {},
   "source": [
    "#### Deeper Dive"
   ]
  },
  {
   "cell_type": "markdown",
   "metadata": {},
   "source": [
    "Look into most common and uncommon terms."
   ]
  },
  {
   "cell_type": "code",
   "execution_count": 340,
   "metadata": {},
   "outputs": [],
   "source": [
    "df = sanitize_text(df, \"data_lyrics\")"
   ]
  },
  {
   "cell_type": "code",
   "execution_count": 341,
   "metadata": {},
   "outputs": [],
   "source": [
    "df['data_lyrics Cleaned'] = df['data_lyrics Cleaned'].apply(lambda x: \" \".join(x for x in x.split() if x not in stop))\n"
   ]
  },
  {
   "cell_type": "code",
   "execution_count": 291,
   "metadata": {},
   "outputs": [
    {
     "data": {
      "text/plain": [
       "s         850\n",
       "n         722\n",
       "t         710\n",
       "amor      652\n",
       "m         620\n",
       "si        588\n",
       "quiero    388\n",
       "coraz     321\n",
       ",         318\n",
       "vida      278\n",
       "ay        276\n",
       "d         256\n",
       "oh        247\n",
       "pa'       230\n",
       "solo      217\n",
       "ser       212\n",
       "ah        203\n",
       "puedo     200\n",
       "est       189\n",
       "voy       178\n",
       "dtype: int64"
      ]
     },
     "execution_count": 291,
     "metadata": {},
     "output_type": "execute_result"
    }
   ],
   "source": [
    "freq_com = pd.Series(' '.join(df['data_lyrics Cleaned']).split()).value_counts()[:20]\n",
    "freq_com"
   ]
  },
  {
   "cell_type": "code",
   "execution_count": 292,
   "metadata": {},
   "outputs": [
    {
     "data": {
      "text/plain": [
       "didarise                  1\n",
       "yonunca                   1\n",
       "buena!                    1\n",
       "avalansas                 1\n",
       "poli                      1\n",
       "intente                   1\n",
       "amartesi                  1\n",
       "arabia                    1\n",
       "sentimientosterminaste    1\n",
       "algarabia(2               1\n",
       "lamentos,                 1\n",
       "cariciasde                1\n",
       "amoc                      1\n",
       "falladoy                  1\n",
       "amorespint                1\n",
       "yo)me                     1\n",
       "(dime)tu                  1\n",
       "ehfogarat                 1\n",
       "muchachita!!torito!!      1\n",
       "(sea                      1\n",
       "dtype: int64"
      ]
     },
     "execution_count": 292,
     "metadata": {},
     "output_type": "execute_result"
    }
   ],
   "source": [
    "freq_uncom = pd.Series(' '.join(df['data_lyrics Cleaned']).split()).value_counts()[-20:]\n",
    "freq_uncom"
   ]
  },
  {
   "cell_type": "code",
   "execution_count": 303,
   "metadata": {},
   "outputs": [],
   "source": [
    "df['data_lyrics Cleaned'] = df['data_lyrics Cleaned'].apply(lambda x: \" \".join(x for x in x.split() if x not in freq_com ))\n",
    "df['data_lyrics Cleaned'] = df['data_lyrics Cleaned'].apply(lambda x: \" \".join(x for x in x.split() if x not in freq_uncom))"
   ]
  },
  {
   "cell_type": "markdown",
   "metadata": {},
   "source": [
    "Look into ngrams and ranked terms."
   ]
  },
  {
   "cell_type": "code",
   "execution_count": 304,
   "metadata": {},
   "outputs": [
    {
     "data": {
      "text/html": [
       "<div>\n",
       "<style scoped>\n",
       "    .dataframe tbody tr th:only-of-type {\n",
       "        vertical-align: middle;\n",
       "    }\n",
       "\n",
       "    .dataframe tbody tr th {\n",
       "        vertical-align: top;\n",
       "    }\n",
       "\n",
       "    .dataframe thead th {\n",
       "        text-align: right;\n",
       "    }\n",
       "</style>\n",
       "<table border=\"1\" class=\"dataframe\">\n",
       "  <thead>\n",
       "    <tr style=\"text-align: right;\">\n",
       "      <th></th>\n",
       "      <th>ngram</th>\n",
       "      <th>count</th>\n",
       "    </tr>\n",
       "  </thead>\n",
       "  <tbody>\n",
       "    <tr>\n",
       "      <td>0</td>\n",
       "      <td>sac delo, sac</td>\n",
       "      <td>84</td>\n",
       "    </tr>\n",
       "    <tr>\n",
       "      <td>1</td>\n",
       "      <td>delo, sac delo,</td>\n",
       "      <td>80</td>\n",
       "    </tr>\n",
       "    <tr>\n",
       "      <td>2</td>\n",
       "      <td>delo, sac delosac</td>\n",
       "      <td>20</td>\n",
       "    </tr>\n",
       "    <tr>\n",
       "      <td>3</td>\n",
       "      <td>sac delosac delo,</td>\n",
       "      <td>19</td>\n",
       "    </tr>\n",
       "    <tr>\n",
       "      <td>4</td>\n",
       "      <td>delosac delo, sac</td>\n",
       "      <td>19</td>\n",
       "    </tr>\n",
       "    <tr>\n",
       "      <td>...</td>\n",
       "      <td>...</td>\n",
       "      <td>...</td>\n",
       "    </tr>\n",
       "    <tr>\n",
       "      <td>95</td>\n",
       "      <td>reglas, juego pongo</td>\n",
       "      <td>3</td>\n",
       "    </tr>\n",
       "    <tr>\n",
       "      <td>96</td>\n",
       "      <td>verdadque nadaque sociedadpero</td>\n",
       "      <td>3</td>\n",
       "    </tr>\n",
       "    <tr>\n",
       "      <td>97</td>\n",
       "      <td>comera perros quemaste</td>\n",
       "      <td>2</td>\n",
       "    </tr>\n",
       "    <tr>\n",
       "      <td>98</td>\n",
       "      <td>as mismo so</td>\n",
       "      <td>2</td>\n",
       "    </tr>\n",
       "    <tr>\n",
       "      <td>99</td>\n",
       "      <td>stalo, pare' bolat</td>\n",
       "      <td>2</td>\n",
       "    </tr>\n",
       "  </tbody>\n",
       "</table>\n",
       "<p>100 rows × 2 columns</p>\n",
       "</div>"
      ],
      "text/plain": [
       "                             ngram  count\n",
       "0                    sac delo, sac     84\n",
       "1                  delo, sac delo,     80\n",
       "2                delo, sac delosac     20\n",
       "3                sac delosac delo,     19\n",
       "4                delosac delo, sac     19\n",
       "..                             ...    ...\n",
       "95             reglas, juego pongo      3\n",
       "96  verdadque nadaque sociedadpero      3\n",
       "97          comera perros quemaste      2\n",
       "98                     as mismo so      2\n",
       "99              stalo, pare' bolat      2\n",
       "\n",
       "[100 rows x 2 columns]"
      ]
     },
     "execution_count": 304,
     "metadata": {},
     "output_type": "execute_result"
    }
   ],
   "source": [
    "tokenized_summary = [x.split() for x in df['data_lyrics Cleaned'].tolist()]\n",
    "#You may change the n-gram count here. Keep in mind the specificity vs. context ratio\n",
    "n_gram = ngram_generator(tokenized_summary, 3) \n",
    "n_gram"
   ]
  },
  {
   "cell_type": "code",
   "execution_count": 264,
   "metadata": {},
   "outputs": [],
   "source": [
    "vectorizer = TfidfVectorizer(analyzer='word', ngram_range=(3,4))    \n",
    "tfidf = vectorizer.fit_transform(df['data_lyrics Cleaned'])"
   ]
  },
  {
   "cell_type": "code",
   "execution_count": 265,
   "metadata": {},
   "outputs": [
    {
     "data": {
      "text/html": [
       "<div>\n",
       "<style scoped>\n",
       "    .dataframe tbody tr th:only-of-type {\n",
       "        vertical-align: middle;\n",
       "    }\n",
       "\n",
       "    .dataframe tbody tr th {\n",
       "        vertical-align: top;\n",
       "    }\n",
       "\n",
       "    .dataframe thead th {\n",
       "        text-align: right;\n",
       "    }\n",
       "</style>\n",
       "<table border=\"1\" class=\"dataframe\">\n",
       "  <thead>\n",
       "    <tr style=\"text-align: right;\">\n",
       "      <th></th>\n",
       "      <th>term</th>\n",
       "      <th>rank</th>\n",
       "    </tr>\n",
       "  </thead>\n",
       "  <tbody>\n",
       "    <tr>\n",
       "      <td>174139</td>\n",
       "      <td>na na na</td>\n",
       "      <td>2.394951</td>\n",
       "    </tr>\n",
       "    <tr>\n",
       "      <td>295399</td>\n",
       "      <td>yeh yeh yeh</td>\n",
       "      <td>2.197041</td>\n",
       "    </tr>\n",
       "    <tr>\n",
       "      <td>5545</td>\n",
       "      <td>ah ah ah</td>\n",
       "      <td>2.139678</td>\n",
       "    </tr>\n",
       "    <tr>\n",
       "      <td>22369</td>\n",
       "      <td>ay ay ay</td>\n",
       "      <td>1.765269</td>\n",
       "    </tr>\n",
       "    <tr>\n",
       "      <td>270415</td>\n",
       "      <td>tra tra tra</td>\n",
       "      <td>1.645690</td>\n",
       "    </tr>\n",
       "    <tr>\n",
       "      <td>89539</td>\n",
       "      <td>eh eh eh</td>\n",
       "      <td>1.559439</td>\n",
       "    </tr>\n",
       "    <tr>\n",
       "      <td>174157</td>\n",
       "      <td>na na na na</td>\n",
       "      <td>1.388987</td>\n",
       "    </tr>\n",
       "    <tr>\n",
       "      <td>243333</td>\n",
       "      <td>shaky shaky shaky</td>\n",
       "      <td>1.331924</td>\n",
       "    </tr>\n",
       "    <tr>\n",
       "      <td>5546</td>\n",
       "      <td>ah ah ah ah</td>\n",
       "      <td>1.299295</td>\n",
       "    </tr>\n",
       "    <tr>\n",
       "      <td>181580</td>\n",
       "      <td>no no no</td>\n",
       "      <td>1.283409</td>\n",
       "    </tr>\n",
       "    <tr>\n",
       "      <td>270430</td>\n",
       "      <td>tra tra tra tra</td>\n",
       "      <td>1.275997</td>\n",
       "    </tr>\n",
       "    <tr>\n",
       "      <td>187928</td>\n",
       "      <td>oh oh oh</td>\n",
       "      <td>1.126090</td>\n",
       "    </tr>\n",
       "    <tr>\n",
       "      <td>294475</td>\n",
       "      <td>yeah yeah yeah</td>\n",
       "      <td>1.070958</td>\n",
       "    </tr>\n",
       "    <tr>\n",
       "      <td>103060</td>\n",
       "      <td>ey ey ey</td>\n",
       "      <td>1.056751</td>\n",
       "    </tr>\n",
       "    <tr>\n",
       "      <td>243335</td>\n",
       "      <td>shaky shaky shaky shaky</td>\n",
       "      <td>1.042937</td>\n",
       "    </tr>\n",
       "    <tr>\n",
       "      <td>295434</td>\n",
       "      <td>yeh yeh yeh yeh</td>\n",
       "      <td>0.972413</td>\n",
       "    </tr>\n",
       "    <tr>\n",
       "      <td>138657</td>\n",
       "      <td>krippy krippy krippy</td>\n",
       "      <td>0.880567</td>\n",
       "    </tr>\n",
       "    <tr>\n",
       "      <td>274316</td>\n",
       "      <td>uh uh uh</td>\n",
       "      <td>0.849277</td>\n",
       "    </tr>\n",
       "    <tr>\n",
       "      <td>233588</td>\n",
       "      <td>rompe rompe rompe</td>\n",
       "      <td>0.827602</td>\n",
       "    </tr>\n",
       "    <tr>\n",
       "      <td>188658</td>\n",
       "      <td>oi oi oi</td>\n",
       "      <td>0.801627</td>\n",
       "    </tr>\n",
       "  </tbody>\n",
       "</table>\n",
       "</div>"
      ],
      "text/plain": [
       "                           term      rank\n",
       "174139                 na na na  2.394951\n",
       "295399              yeh yeh yeh  2.197041\n",
       "5545                   ah ah ah  2.139678\n",
       "22369                  ay ay ay  1.765269\n",
       "270415              tra tra tra  1.645690\n",
       "89539                  eh eh eh  1.559439\n",
       "174157              na na na na  1.388987\n",
       "243333        shaky shaky shaky  1.331924\n",
       "5546                ah ah ah ah  1.299295\n",
       "181580                 no no no  1.283409\n",
       "270430          tra tra tra tra  1.275997\n",
       "187928                 oh oh oh  1.126090\n",
       "294475           yeah yeah yeah  1.070958\n",
       "103060                 ey ey ey  1.056751\n",
       "243335  shaky shaky shaky shaky  1.042937\n",
       "295434          yeh yeh yeh yeh  0.972413\n",
       "138657     krippy krippy krippy  0.880567\n",
       "274316                 uh uh uh  0.849277\n",
       "233588        rompe rompe rompe  0.827602\n",
       "188658                 oi oi oi  0.801627"
      ]
     },
     "execution_count": 265,
     "metadata": {},
     "output_type": "execute_result"
    }
   ],
   "source": [
    "#Top weighted terms\n",
    "ranked = rank_words(terms=vectorizer.get_feature_names(), feature_matrix=tfidf)\n",
    "ranked[0:20]"
   ]
  },
  {
   "cell_type": "code",
   "execution_count": 266,
   "metadata": {},
   "outputs": [
    {
     "data": {
      "text/plain": [
       "{0: ['bailas forma provocatenerte',\n",
       "  'enamoras es bailas',\n",
       "  'enamoras es bailas forma',\n",
       "  'es bailas forma',\n",
       "  'es bailas forma provocatenerte'],\n",
       " 1: ['reggaeton dalesigue bailando',\n",
       "  'pareac rcate pantal',\n",
       "  'reggaeton dalesigue bailando mami',\n",
       "  'dalesigue bailando mami pareac',\n",
       "  'mami pareac rcate'],\n",
       " 2: ['sica botet quieres',\n",
       "  'pongas bi nicaquieres',\n",
       "  'syko come mierda sica',\n",
       "  'bi nicaquieres patilla maravillaque',\n",
       "  'note escoteque syko come'],\n",
       " 3: ['peseny piernas caminenlos ojos',\n",
       "  'peseny piernas caminenlos',\n",
       "  'pesesea hicimos viday aunque',\n",
       "  'nico pesesea hicimos',\n",
       "  'aunque pase uoheres'],\n",
       " 4: ['cantamos bien borrachosque bailamos',\n",
       "  'borrachosnos besamos bien borrachos',\n",
       "  'bailamos bien borrachosnos',\n",
       "  'bien borrachosque bailamos bien',\n",
       "  'bien borrachosque bailamos'],\n",
       " 5: ['olvidar puedo escaparya',\n",
       "  'puedo escaparya igual',\n",
       "  'olvidar olvidar puedo escaparya',\n",
       "  'olvidar olvidar puedo',\n",
       "  'olvidar puedo escaparya igual'],\n",
       " 6: ['calle oye hora',\n",
       "  'autos limpio zapatos',\n",
       "  'nacida precio la',\n",
       "  'nacida precio la ez',\n",
       "  'oye hora exactamente callehay'],\n",
       " 7: ['uh uh uh',\n",
       "  'pri yah yah',\n",
       "  'yoh yah yah',\n",
       "  'yah yoh yah',\n",
       "  'yah yoh yah yah'],\n",
       " 8: ['mambo azotalo quiere mambo',\n",
       "  'quiere mambo agarralo',\n",
       "  'azotalo quiere mambo agarralo',\n",
       "  'mambo agarralo quiere',\n",
       "  'quiere mambo agarralo quiere'],\n",
       " 9: ['tra tra tra',\n",
       "  'tra tra tra tra',\n",
       "  'oh yeahhazle caso estrellas',\n",
       "  'oh yeahhazle caso',\n",
       "  'problema culpa ella'],\n",
       " 10: ['mismo yo aqu conmigofueras',\n",
       "  'yo aqu conmigofueras novia',\n",
       "  'aqu conmigofueras novia',\n",
       "  'aqu conmigofueras novia pr',\n",
       "  'mismo yo aqu'],\n",
       " 11: ['lujo date sippyque',\n",
       "  'loca ande misma',\n",
       "  'loca ande misma nota',\n",
       "  'cangri yandel wisinuna tego',\n",
       "  'ande misma nota randy'],\n",
       " 12: ['toma toma dame',\n",
       "  'que lleve tibur',\n",
       "  'toma toma dame dame',\n",
       "  'toma dame dame',\n",
       "  'quieres que lleve'],\n",
       " 13: ['si nico hace falta',\n",
       "  'nico hace falta',\n",
       "  'si nico hace',\n",
       "  'nico hace falta amores',\n",
       "  'hace falta amores'],\n",
       " 14: ['escuchas miras remuerde coraz',\n",
       "  'so ando pasi nno',\n",
       "  'dos so ando pasi',\n",
       "  'ando pasi nno',\n",
       "  'ando pasi nno escuchas'],\n",
       " 15: ['daba amor ido',\n",
       "  'oportunidad demostrarteque verdad',\n",
       "  'pido oportunidad demostrarteque',\n",
       "  'pido oportunidad demostrarteque verdad',\n",
       "  'sen mejor momento'],\n",
       " 16: ['quitate ponerme yohe',\n",
       "  'si vas vas quitate',\n",
       "  'dioses si vas vas',\n",
       "  'escapularios te visita cangriman',\n",
       "  'visto moretones caballero'],\n",
       " 17: ['krippy krippy krippy',\n",
       "  'kush kush kush',\n",
       "  'krippy krippy krippy krippy',\n",
       "  'kush kush kush kush',\n",
       "  'quieren krippy krippy'],\n",
       " 18: ['ndete cale chispas',\n",
       "  'atr vete te',\n",
       "  'dete sudor wiperque callejera',\n",
       "  'cale chispas rterpr ndete',\n",
       "  'tate esmaltedeja taparte nadie'],\n",
       " 19: ['ah ah ah',\n",
       "  'ah ah ah ah',\n",
       "  'haces pierda cabeza',\n",
       "  'na na na',\n",
       "  'haces pierda cabeza titu']}"
      ]
     },
     "execution_count": 266,
     "metadata": {},
     "output_type": "execute_result"
    }
   ],
   "source": [
    "#Set up NMF\n",
    "n_topics = 20\n",
    "nmf = NMF(n_components=n_topics,random_state=0)\n",
    "\n",
    "topics = nmf.fit_transform(tfidf)\n",
    "top_n_words = 5\n",
    "t_words, word_strengths = {}, {}\n",
    "for t_id, t in enumerate(nmf.components_):\n",
    "    t_words[t_id] = [vectorizer.get_feature_names()[i] for i in t.argsort()[:-top_n_words - 1:-1]]\n",
    "    word_strengths[t_id] = t[t.argsort()[:-top_n_words - 1:-1]]\n",
    "t_words"
   ]
  },
  {
   "cell_type": "code",
   "execution_count": 272,
   "metadata": {},
   "outputs": [
    {
     "data": {
      "image/png": "[encoded data removed]",
      "text/plain": [
       "<Figure size 864x1296 with 10 Axes>"
      ]
     },
     "metadata": {
      "needs_background": "light"
     },
     "output_type": "display_data"
    }
   ],
   "source": [
    "#---Visualize terms in NMF by rank\n",
    "fig, ax = plt.subplots(figsize=(12,18), ncols=2, nrows=5)\n",
    "plt.subplots_adjust(\n",
    "    wspace  =  1.0,\n",
    "    hspace  =  0.5\n",
    ")\n",
    "c=0\n",
    "for row in range(0,5):\n",
    "    for col in range(0,2):\n",
    "        sns.barplot(x=word_strengths[c], y=t_words[c], color=\"#F8C471\", ax=ax[row][col])\n",
    "        c+=1\n",
    "plt.show()"
   ]
  },
  {
   "cell_type": "code",
   "execution_count": null,
   "metadata": {},
   "outputs": [],
   "source": []
  }
 ],
 "metadata": {
  "kernelspec": {
   "display_name": "Python 3",
   "language": "python",
   "name": "python3"
  },
  "language_info": {
   "codemirror_mode": {
    "name": "ipython",
    "version": 3
   },
   "file_extension": ".py",
   "mimetype": "text/x-python",
   "name": "python",
   "nbconvert_exporter": "python",
   "pygments_lexer": "ipython3",
   "version": "3.7.4"
  }
 },
 "nbformat": 4,
 "nbformat_minor": 2
}
